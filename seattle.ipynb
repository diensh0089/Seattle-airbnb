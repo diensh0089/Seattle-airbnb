{
 "cells": [
  {
   "cell_type": "markdown",
   "id": "00ac97f7-5b04-4963-aa5d-1563a84d4f87",
   "metadata": {},
   "source": [
    "\n",
    "# Seattle Airbnb data \n"
   ]
  },
  {
   "cell_type": "markdown",
   "id": "8f0984e9-3837-4b63-beef-543a82308aff",
   "metadata": {},
   "source": [
    "- Business Understanding\n",
    "We are given Airbnb Seattle data and we need to analyse the data and share results with stakeholders on below parameters.\n",
    "1) Busiest times of the year to visit Seattle?"
   ]
  },
  {
   "cell_type": "code",
   "execution_count": 1,
   "id": "49943a93-e064-4b9d-b35c-7b871cb0eea9",
   "metadata": {},
   "outputs": [],
   "source": [
    "#Data Understanding\n",
    "#Analysing the data sources\n",
    "\n",
    "# Importing Libraries\n",
    "\n",
    "# Image libraries\n",
    "from IPython.display import Image\n",
    "from IPython.core.display import HTML \n",
    "\n",
    "# Import linear algebra and data manipulation\n",
    "import numpy as np\n",
    "import pandas as pd\n",
    "import scipy as sp\n",
    "\n",
    "# Import plotting packages\n",
    "import matplotlib.pyplot as plt\n",
    "%matplotlib inline\n",
    "import seaborn as sns\n",
    "\n",
    "# Import machine learning\n",
    "from sklearn.linear_model import LinearRegression\n",
    "from sklearn.ensemble import RandomForestRegressor\n",
    "\n",
    "from sklearn.model_selection import train_test_split #split\n",
    "from sklearn.metrics import r2_score, mean_squared_error #metrics"
   ]
  },
  {
   "cell_type": "code",
   "execution_count": 2,
   "id": "08f96e87-0a1a-4eef-bbb5-9acacf28bcb1",
   "metadata": {},
   "outputs": [
    {
     "data": {
      "text/html": [
       "<div>\n",
       "<style scoped>\n",
       "    .dataframe tbody tr th:only-of-type {\n",
       "        vertical-align: middle;\n",
       "    }\n",
       "\n",
       "    .dataframe tbody tr th {\n",
       "        vertical-align: top;\n",
       "    }\n",
       "\n",
       "    .dataframe thead th {\n",
       "        text-align: right;\n",
       "    }\n",
       "</style>\n",
       "<table border=\"1\" class=\"dataframe\">\n",
       "  <thead>\n",
       "    <tr style=\"text-align: right;\">\n",
       "      <th></th>\n",
       "      <th>id</th>\n",
       "      <th>listing_url</th>\n",
       "      <th>scrape_id</th>\n",
       "      <th>last_scraped</th>\n",
       "      <th>name</th>\n",
       "      <th>summary</th>\n",
       "      <th>space</th>\n",
       "      <th>description</th>\n",
       "      <th>experiences_offered</th>\n",
       "      <th>neighborhood_overview</th>\n",
       "      <th>...</th>\n",
       "      <th>review_scores_value</th>\n",
       "      <th>requires_license</th>\n",
       "      <th>license</th>\n",
       "      <th>jurisdiction_names</th>\n",
       "      <th>instant_bookable</th>\n",
       "      <th>cancellation_policy</th>\n",
       "      <th>require_guest_profile_picture</th>\n",
       "      <th>require_guest_phone_verification</th>\n",
       "      <th>calculated_host_listings_count</th>\n",
       "      <th>reviews_per_month</th>\n",
       "    </tr>\n",
       "  </thead>\n",
       "  <tbody>\n",
       "    <tr>\n",
       "      <th>0</th>\n",
       "      <td>241032</td>\n",
       "      <td>https://www.airbnb.com/rooms/241032</td>\n",
       "      <td>20160104002432</td>\n",
       "      <td>2016-01-04</td>\n",
       "      <td>Stylish Queen Anne Apartment</td>\n",
       "      <td>NaN</td>\n",
       "      <td>Make your self at home in this charming one-be...</td>\n",
       "      <td>Make your self at home in this charming one-be...</td>\n",
       "      <td>none</td>\n",
       "      <td>NaN</td>\n",
       "      <td>...</td>\n",
       "      <td>10.0</td>\n",
       "      <td>f</td>\n",
       "      <td>NaN</td>\n",
       "      <td>WASHINGTON</td>\n",
       "      <td>f</td>\n",
       "      <td>moderate</td>\n",
       "      <td>f</td>\n",
       "      <td>f</td>\n",
       "      <td>2</td>\n",
       "      <td>4.07</td>\n",
       "    </tr>\n",
       "    <tr>\n",
       "      <th>1</th>\n",
       "      <td>953595</td>\n",
       "      <td>https://www.airbnb.com/rooms/953595</td>\n",
       "      <td>20160104002432</td>\n",
       "      <td>2016-01-04</td>\n",
       "      <td>Bright &amp; Airy Queen Anne Apartment</td>\n",
       "      <td>Chemically sensitive? We've removed the irrita...</td>\n",
       "      <td>Beautiful, hypoallergenic apartment in an extr...</td>\n",
       "      <td>Chemically sensitive? We've removed the irrita...</td>\n",
       "      <td>none</td>\n",
       "      <td>Queen Anne is a wonderful, truly functional vi...</td>\n",
       "      <td>...</td>\n",
       "      <td>10.0</td>\n",
       "      <td>f</td>\n",
       "      <td>NaN</td>\n",
       "      <td>WASHINGTON</td>\n",
       "      <td>f</td>\n",
       "      <td>strict</td>\n",
       "      <td>t</td>\n",
       "      <td>t</td>\n",
       "      <td>6</td>\n",
       "      <td>1.48</td>\n",
       "    </tr>\n",
       "  </tbody>\n",
       "</table>\n",
       "<p>2 rows × 92 columns</p>\n",
       "</div>"
      ],
      "text/plain": [
       "       id                          listing_url       scrape_id last_scraped  \\\n",
       "0  241032  https://www.airbnb.com/rooms/241032  20160104002432   2016-01-04   \n",
       "1  953595  https://www.airbnb.com/rooms/953595  20160104002432   2016-01-04   \n",
       "\n",
       "                                 name  \\\n",
       "0        Stylish Queen Anne Apartment   \n",
       "1  Bright & Airy Queen Anne Apartment   \n",
       "\n",
       "                                             summary  \\\n",
       "0                                                NaN   \n",
       "1  Chemically sensitive? We've removed the irrita...   \n",
       "\n",
       "                                               space  \\\n",
       "0  Make your self at home in this charming one-be...   \n",
       "1  Beautiful, hypoallergenic apartment in an extr...   \n",
       "\n",
       "                                         description experiences_offered  \\\n",
       "0  Make your self at home in this charming one-be...                none   \n",
       "1  Chemically sensitive? We've removed the irrita...                none   \n",
       "\n",
       "                               neighborhood_overview  ... review_scores_value  \\\n",
       "0                                                NaN  ...                10.0   \n",
       "1  Queen Anne is a wonderful, truly functional vi...  ...                10.0   \n",
       "\n",
       "  requires_license license jurisdiction_names instant_bookable  \\\n",
       "0                f     NaN         WASHINGTON                f   \n",
       "1                f     NaN         WASHINGTON                f   \n",
       "\n",
       "  cancellation_policy  require_guest_profile_picture  \\\n",
       "0            moderate                              f   \n",
       "1              strict                              t   \n",
       "\n",
       "  require_guest_phone_verification calculated_host_listings_count  \\\n",
       "0                                f                              2   \n",
       "1                                t                              6   \n",
       "\n",
       "  reviews_per_month  \n",
       "0              4.07  \n",
       "1              1.48  \n",
       "\n",
       "[2 rows x 92 columns]"
      ]
     },
     "execution_count": 2,
     "metadata": {},
     "output_type": "execute_result"
    }
   ],
   "source": [
    "import pandas as pd\n",
    "# Reading Datasets\n",
    "listings_df = pd.read_csv(r'Z:\\Team\\Dinesh\\Kaggle\\listings.csv')\n",
    "listings_df.shape # (3818, 92)\n",
    "listings_df.head(2)\n"
   ]
  },
  {
   "cell_type": "code",
   "execution_count": 4,
   "id": "0be8f75a-ca54-4ad6-8e48-259effface56",
   "metadata": {},
   "outputs": [
    {
     "data": {
      "text/plain": [
       "(Index(['id', 'scrape_id', 'last_scraped', 'name', 'summary', 'space',\n",
       "        'description', 'experiences_offered', 'neighborhood_overview', 'notes',\n",
       "        'transit', 'host_id', 'host_name', 'host_since', 'host_location',\n",
       "        'host_about', 'host_response_time', 'host_response_rate',\n",
       "        'host_acceptance_rate', 'host_is_superhost', 'host_neighbourhood',\n",
       "        'host_listings_count', 'host_total_listings_count',\n",
       "        'host_verifications', 'host_has_profile_pic', 'host_identity_verified',\n",
       "        'street', 'neighbourhood', 'neighbourhood_cleansed',\n",
       "        'neighbourhood_group_cleansed', 'city', 'state', 'zipcode', 'market',\n",
       "        'smart_location', 'country_code', 'country', 'latitude', 'longitude',\n",
       "        'is_location_exact', 'property_type', 'room_type', 'accommodates',\n",
       "        'bathrooms', 'bedrooms', 'beds', 'bed_type', 'amenities', 'square_feet',\n",
       "        'price', 'weekly_price', 'monthly_price', 'security_deposit',\n",
       "        'cleaning_fee', 'guests_included', 'extra_people', 'minimum_nights',\n",
       "        'maximum_nights', 'calendar_updated', 'has_availability',\n",
       "        'availability_30', 'availability_60', 'availability_90',\n",
       "        'availability_365', 'calendar_last_scraped', 'number_of_reviews',\n",
       "        'first_review', 'last_review', 'review_scores_rating',\n",
       "        'review_scores_accuracy', 'review_scores_cleanliness',\n",
       "        'review_scores_checkin', 'review_scores_communication',\n",
       "        'review_scores_location', 'review_scores_value', 'requires_license',\n",
       "        'license', 'jurisdiction_names', 'instant_bookable',\n",
       "        'cancellation_policy', 'require_guest_profile_picture',\n",
       "        'require_guest_phone_verification', 'calculated_host_listings_count',\n",
       "        'reviews_per_month'],\n",
       "       dtype='object'),\n",
       " 84)"
      ]
     },
     "execution_count": 4,
     "metadata": {},
     "output_type": "execute_result"
    }
   ],
   "source": [
    "# delete columns with url\n",
    "df = listings_df.loc[:, ~listings_df.columns.str.endswith('url')]\n",
    "df.columns, len(df.columns)"
   ]
  },
  {
   "cell_type": "code",
   "execution_count": 5,
   "id": "2ca1e711-33bc-48c2-8d60-8d4203fc13cc",
   "metadata": {},
   "outputs": [
    {
     "data": {
      "text/plain": [
       "3818"
      ]
     },
     "execution_count": 5,
     "metadata": {},
     "output_type": "execute_result"
    }
   ],
   "source": [
    "# Listings \n",
    "listings_number = len(listings_df['id'].unique())\n",
    "listings_number"
   ]
  },
  {
   "cell_type": "code",
   "execution_count": 7,
   "id": "0b6bf2b2-340d-47c2-9812-913e7235736c",
   "metadata": {},
   "outputs": [
    {
     "data": {
      "text/plain": [
       "2751"
      ]
     },
     "execution_count": 7,
     "metadata": {},
     "output_type": "execute_result"
    }
   ],
   "source": [
    "# HOSTS\n",
    "hosts_number = len(listings_df['host_id'].unique())\n",
    "hosts_number"
   ]
  },
  {
   "cell_type": "code",
   "execution_count": 8,
   "id": "e150d4f6-c664-44d2-a5e3-619ea80c302a",
   "metadata": {},
   "outputs": [
    {
     "data": {
      "text/plain": [
       "id                                  0.000000\n",
       "listing_url                         0.000000\n",
       "scrape_id                           0.000000\n",
       "last_scraped                        0.000000\n",
       "name                                0.000000\n",
       "                                      ...   \n",
       "cancellation_policy                 0.000000\n",
       "require_guest_profile_picture       0.000000\n",
       "require_guest_phone_verification    0.000000\n",
       "calculated_host_listings_count      0.000000\n",
       "reviews_per_month                   0.164222\n",
       "Length: 92, dtype: float64"
      ]
     },
     "execution_count": 8,
     "metadata": {},
     "output_type": "execute_result"
    }
   ],
   "source": [
    "#Missing values in numberic variables\n",
    "num_vars = listings_df.isnull().mean() \n",
    "num_vars"
   ]
  },
  {
   "cell_type": "code",
   "execution_count": 9,
   "id": "a8865709-1bc3-49af-bc08-00a1484f0e99",
   "metadata": {},
   "outputs": [
    {
     "data": {
      "text/plain": [
       "44"
      ]
     },
     "execution_count": 9,
     "metadata": {},
     "output_type": "execute_result"
    }
   ],
   "source": [
    "# Columns with no missing values\n",
    "n_missing_val = np.sum(np.sum(df.isnull())==0)\n",
    "n_missing_val"
   ]
  },
  {
   "cell_type": "code",
   "execution_count": 10,
   "id": "aaeeb952-ec23-4aed-86c2-893a6e97bd03",
   "metadata": {},
   "outputs": [
    {
     "data": {
      "text/plain": [
       "Index(['license'], dtype='object')"
      ]
     },
     "execution_count": 10,
     "metadata": {},
     "output_type": "execute_result"
    }
   ],
   "source": [
    "# Columns with all missing values\n",
    "df.columns[df.isnull().all()]"
   ]
  },
  {
   "cell_type": "code",
   "execution_count": 11,
   "id": "71c5acdf-87ea-4f22-a3a4-f452dd5dfcd2",
   "metadata": {},
   "outputs": [
    {
     "data": {
      "text/plain": [
       "(3818, 83)"
      ]
     },
     "execution_count": 11,
     "metadata": {},
     "output_type": "execute_result"
    }
   ],
   "source": [
    "# Dropping with all missing values\n",
    "df = df.drop(['license'], axis=1)\n",
    "df.shape"
   ]
  },
  {
   "cell_type": "code",
   "execution_count": 12,
   "id": "786e865c-bba9-4a2f-8a6f-6332e315ad3e",
   "metadata": {},
   "outputs": [
    {
     "data": {
      "text/plain": [
       "Index(['square_feet', 'monthly_price', 'security_deposit'], dtype='object')"
      ]
     },
     "execution_count": 12,
     "metadata": {},
     "output_type": "execute_result"
    }
   ],
   "source": [
    "# Columns with half missing values\n",
    "missing_val_5 =df.columns[np.sum(df.isnull())/df.shape[0] >= .5]\n",
    "missing_val_5"
   ]
  },
  {
   "cell_type": "code",
   "execution_count": 13,
   "id": "36e1449c-8718-4dd8-9a63-3bfc41731f7b",
   "metadata": {},
   "outputs": [],
   "source": [
    "def missing_values(data):\n",
    "    \"\"\"\n",
    "    Filter out columns which have missing values\n",
    "    \n",
    "    \"\"\"\n",
    "    miss_df = pd.DataFrame(data[data > 0].sort_values(ascending=False), columns=['Value'])\n",
    "    return miss_df"
   ]
  },
  {
   "cell_type": "code",
   "execution_count": 14,
   "id": "87c3e947-ce47-4664-a4d8-f18b36cff986",
   "metadata": {},
   "outputs": [
    {
     "data": {
      "text/plain": [
       "(39, 1)"
      ]
     },
     "execution_count": 14,
     "metadata": {},
     "output_type": "execute_result"
    }
   ],
   "source": [
    "# Missing values\n",
    "data_missing_df = df.isnull().mean()\n",
    "miss_val=missing_values(data_missing_df)\n",
    "miss_val.shape"
   ]
  },
  {
   "cell_type": "markdown",
   "id": "208f26d8-359d-455f-9248-2073ebc43d3f",
   "metadata": {},
   "source": [
    "We can see that 'square_feet', 'monthly_price', 'security_deposit', 'weekly_price' and 'notes'  have more than 40% of missing values."
   ]
  },
  {
   "cell_type": "markdown",
   "id": "cc83c19c-d351-4549-8bda-cff2ba9f8802",
   "metadata": {},
   "source": [
    "# Reading calendar data"
   ]
  },
  {
   "cell_type": "code",
   "execution_count": 15,
   "id": "5d414d21-5293-470e-85ab-7d32f19234c7",
   "metadata": {},
   "outputs": [
    {
     "data": {
      "text/html": [
       "<div>\n",
       "<style scoped>\n",
       "    .dataframe tbody tr th:only-of-type {\n",
       "        vertical-align: middle;\n",
       "    }\n",
       "\n",
       "    .dataframe tbody tr th {\n",
       "        vertical-align: top;\n",
       "    }\n",
       "\n",
       "    .dataframe thead th {\n",
       "        text-align: right;\n",
       "    }\n",
       "</style>\n",
       "<table border=\"1\" class=\"dataframe\">\n",
       "  <thead>\n",
       "    <tr style=\"text-align: right;\">\n",
       "      <th></th>\n",
       "      <th>listing_id</th>\n",
       "      <th>date</th>\n",
       "      <th>available</th>\n",
       "      <th>price</th>\n",
       "    </tr>\n",
       "  </thead>\n",
       "  <tbody>\n",
       "    <tr>\n",
       "      <th>0</th>\n",
       "      <td>241032</td>\n",
       "      <td>2016-01-04</td>\n",
       "      <td>t</td>\n",
       "      <td>$85.00</td>\n",
       "    </tr>\n",
       "    <tr>\n",
       "      <th>1</th>\n",
       "      <td>241032</td>\n",
       "      <td>2016-01-05</td>\n",
       "      <td>t</td>\n",
       "      <td>$85.00</td>\n",
       "    </tr>\n",
       "  </tbody>\n",
       "</table>\n",
       "</div>"
      ],
      "text/plain": [
       "   listing_id        date available   price\n",
       "0      241032  2016-01-04         t  $85.00\n",
       "1      241032  2016-01-05         t  $85.00"
      ]
     },
     "execution_count": 15,
     "metadata": {},
     "output_type": "execute_result"
    }
   ],
   "source": [
    "calendar_df = pd.read_csv(r'Z:\\Team\\Dinesh\\Kaggle\\calendar.csv')\n",
    "calendar_df.head(2)"
   ]
  },
  {
   "cell_type": "code",
   "execution_count": 16,
   "id": "942e70dd-3b71-4aea-bab3-6c8c38afa061",
   "metadata": {},
   "outputs": [
    {
     "data": {
      "text/plain": [
       "(1393570, 4)"
      ]
     },
     "execution_count": 16,
     "metadata": {},
     "output_type": "execute_result"
    }
   ],
   "source": [
    "calendar_df.shape\n"
   ]
  },
  {
   "cell_type": "code",
   "execution_count": 17,
   "id": "1191b969-2aa8-4675-a6ee-794d58398968",
   "metadata": {},
   "outputs": [
    {
     "data": {
      "text/html": [
       "<div>\n",
       "<style scoped>\n",
       "    .dataframe tbody tr th:only-of-type {\n",
       "        vertical-align: middle;\n",
       "    }\n",
       "\n",
       "    .dataframe tbody tr th {\n",
       "        vertical-align: top;\n",
       "    }\n",
       "\n",
       "    .dataframe thead th {\n",
       "        text-align: right;\n",
       "    }\n",
       "</style>\n",
       "<table border=\"1\" class=\"dataframe\">\n",
       "  <thead>\n",
       "    <tr style=\"text-align: right;\">\n",
       "      <th></th>\n",
       "      <th>Value</th>\n",
       "    </tr>\n",
       "  </thead>\n",
       "  <tbody>\n",
       "    <tr>\n",
       "      <th>price</th>\n",
       "      <td>0.32939</td>\n",
       "    </tr>\n",
       "  </tbody>\n",
       "</table>\n",
       "</div>"
      ],
      "text/plain": [
       "         Value\n",
       "price  0.32939"
      ]
     },
     "execution_count": 17,
     "metadata": {},
     "output_type": "execute_result"
    }
   ],
   "source": [
    "#Missing Values in Calendar dataset\n",
    "miss_calendar_df = calendar_df.isnull().mean()\n",
    "missing_values(miss_calendar_df)"
   ]
  },
  {
   "cell_type": "markdown",
   "id": "f4aaa099-ed65-4afc-9c1b-96bcb90766d5",
   "metadata": {},
   "source": [
    "# Reviews Dataset"
   ]
  },
  {
   "cell_type": "code",
   "execution_count": 18,
   "id": "9d6329bf-0d1e-4571-a852-cbd5fe10c1b5",
   "metadata": {},
   "outputs": [
    {
     "data": {
      "text/html": [
       "<div>\n",
       "<style scoped>\n",
       "    .dataframe tbody tr th:only-of-type {\n",
       "        vertical-align: middle;\n",
       "    }\n",
       "\n",
       "    .dataframe tbody tr th {\n",
       "        vertical-align: top;\n",
       "    }\n",
       "\n",
       "    .dataframe thead th {\n",
       "        text-align: right;\n",
       "    }\n",
       "</style>\n",
       "<table border=\"1\" class=\"dataframe\">\n",
       "  <thead>\n",
       "    <tr style=\"text-align: right;\">\n",
       "      <th></th>\n",
       "      <th>listing_id</th>\n",
       "      <th>id</th>\n",
       "      <th>date</th>\n",
       "      <th>reviewer_id</th>\n",
       "      <th>reviewer_name</th>\n",
       "      <th>comments</th>\n",
       "    </tr>\n",
       "  </thead>\n",
       "  <tbody>\n",
       "    <tr>\n",
       "      <th>0</th>\n",
       "      <td>7202016</td>\n",
       "      <td>38917982</td>\n",
       "      <td>2015-07-19</td>\n",
       "      <td>28943674</td>\n",
       "      <td>Bianca</td>\n",
       "      <td>Cute and cozy place. Perfect location to every...</td>\n",
       "    </tr>\n",
       "    <tr>\n",
       "      <th>1</th>\n",
       "      <td>7202016</td>\n",
       "      <td>39087409</td>\n",
       "      <td>2015-07-20</td>\n",
       "      <td>32440555</td>\n",
       "      <td>Frank</td>\n",
       "      <td>Kelly has a great room in a very central locat...</td>\n",
       "    </tr>\n",
       "  </tbody>\n",
       "</table>\n",
       "</div>"
      ],
      "text/plain": [
       "   listing_id        id        date  reviewer_id reviewer_name  \\\n",
       "0     7202016  38917982  2015-07-19     28943674        Bianca   \n",
       "1     7202016  39087409  2015-07-20     32440555         Frank   \n",
       "\n",
       "                                            comments  \n",
       "0  Cute and cozy place. Perfect location to every...  \n",
       "1  Kelly has a great room in a very central locat...  "
      ]
     },
     "execution_count": 18,
     "metadata": {},
     "output_type": "execute_result"
    }
   ],
   "source": [
    "reviews_df = pd.read_csv(r'Z:\\Team\\Dinesh\\Kaggle\\reviews.csv')\n",
    "reviews_df.head(2)"
   ]
  },
  {
   "cell_type": "markdown",
   "id": "efd28a88-55af-4c71-906b-e492fc63c8b3",
   "metadata": {},
   "source": [
    "# Busiest time to visit Seattle"
   ]
  },
  {
   "cell_type": "code",
   "execution_count": 19,
   "id": "9ee88b95-3a38-4815-a800-eba259be38df",
   "metadata": {},
   "outputs": [
    {
     "data": {
      "text/plain": [
       "t    934542\n",
       "f    459028\n",
       "Name: available, dtype: int64"
      ]
     },
     "execution_count": 19,
     "metadata": {},
     "output_type": "execute_result"
    }
   ],
   "source": [
    "calendar_df['available'].value_counts()"
   ]
  },
  {
   "cell_type": "code",
   "execution_count": 20,
   "id": "6c18bce6-fbc6-476b-9faf-28f137b1f253",
   "metadata": {},
   "outputs": [
    {
     "name": "stderr",
     "output_type": "stream",
     "text": [
      "C:\\Users\\kumadcj\\AppData\\Local\\Temp/ipykernel_7112/1280972128.py:4: FutureWarning: The default value of regex will change from True to False in a future version. In addition, single character regular expressions will *not* be treated as literal strings when regex=True.\n",
      "  calendar_df['price'] = calendar_df['price'].str.replace(\"$\", \"\").str.replace(\",\", \"\").str.replace(\" \", \"\").astype(\"float\")\n"
     ]
    }
   ],
   "source": [
    "# Convert price to number and drop the price_new column\n",
    "calendar_df.rename(columns={'price':'price_new'}, inplace=True)\n",
    "calendar_df['price'] = calendar_df['price_new'].astype(str)\n",
    "calendar_df['price'] = calendar_df['price'].str.replace(\"$\", \"\").str.replace(\",\", \"\").str.replace(\" \", \"\").astype(\"float\")\n",
    "calendar_df.drop(columns=['price_new'], inplace=True)"
   ]
  },
  {
   "cell_type": "code",
   "execution_count": 21,
   "id": "0fcd6ea2-b5ea-4572-8383-9a153f48b8f3",
   "metadata": {},
   "outputs": [
    {
     "name": "stdout",
     "output_type": "stream",
     "text": [
      "\n",
      "The average price of a listing is S137.94\n",
      "The minimum price of a listing is $10.0.\n",
      "The maximum price of a listing is $1650.0.\n",
      "The average price of a listing is $137.94.\n",
      "Only 10% of the listings's prices are equal or under $55.0.\n",
      "80% of the listings's prices are equal or under $181.0.\n",
      "95% of the listings's prices are equal or under $333.0.\n",
      "\n"
     ]
    }
   ],
   "source": [
    "print(f\"\"\"\n",
    "The average price of a listing is S{round(calendar_df['price'].mean(),2)}\n",
    "The minimum price of a listing is ${round(calendar_df['price'].min(),2)}.\n",
    "The maximum price of a listing is ${round(calendar_df['price'].max(),2)}.\n",
    "The average price of a listing is ${round(calendar_df['price'].mean(),2)}.\n",
    "Only 10% of the listings's prices are equal or under ${round(calendar_df['price'].quantile(0.10),2)}.\n",
    "80% of the listings's prices are equal or under ${round(calendar_df['price'].quantile(0.80),2)}.\n",
    "95% of the listings's prices are equal or under ${round(calendar_df['price'].quantile(0.95),2)}.\n",
    "\"\"\")"
   ]
  },
  {
   "cell_type": "code",
   "execution_count": 22,
   "id": "26f87865-050f-407f-8b08-686ac960a37d",
   "metadata": {},
   "outputs": [
    {
     "data": {
      "image/png": "[encoded data removed]",
      "text/plain": [
       "<Figure size 432x288 with 1 Axes>"
      ]
     },
     "metadata": {
      "needs_background": "light"
     },
     "output_type": "display_data"
    }
   ],
   "source": [
    "# Get the average price for each listing\n",
    "mean_price_for_listing = calendar_df.groupby('listing_id').mean()['price']\n",
    "\n",
    "hist = sns.histplot(data=mean_price_for_listing, \n",
    "            color=\"g\", bins=40)\n",
    "# Lables and titles\n",
    "hist.axes.set_title(\"Price distrubution\") \n",
    "hist.set_xlabel(\"Price \")\n",
    "hist.set_ylabel(\"Customers\")\n",
    "\n",
    "plt.show()"
   ]
  },
  {
   "cell_type": "code",
   "execution_count": 23,
   "id": "3bafb129-66fb-4eab-a88f-47ccbb9bbc8e",
   "metadata": {},
   "outputs": [
    {
     "data": {
      "text/html": [
       "<div>\n",
       "<style scoped>\n",
       "    .dataframe tbody tr th:only-of-type {\n",
       "        vertical-align: middle;\n",
       "    }\n",
       "\n",
       "    .dataframe tbody tr th {\n",
       "        vertical-align: top;\n",
       "    }\n",
       "\n",
       "    .dataframe thead th {\n",
       "        text-align: right;\n",
       "    }\n",
       "</style>\n",
       "<table border=\"1\" class=\"dataframe\">\n",
       "  <thead>\n",
       "    <tr style=\"text-align: right;\">\n",
       "      <th></th>\n",
       "      <th>listing_id</th>\n",
       "      <th>date</th>\n",
       "      <th>available</th>\n",
       "      <th>price</th>\n",
       "    </tr>\n",
       "  </thead>\n",
       "  <tbody>\n",
       "    <tr>\n",
       "      <th>0</th>\n",
       "      <td>241032</td>\n",
       "      <td>2016-01-04</td>\n",
       "      <td>t</td>\n",
       "      <td>85.0</td>\n",
       "    </tr>\n",
       "    <tr>\n",
       "      <th>1</th>\n",
       "      <td>241032</td>\n",
       "      <td>2016-01-05</td>\n",
       "      <td>t</td>\n",
       "      <td>85.0</td>\n",
       "    </tr>\n",
       "    <tr>\n",
       "      <th>2</th>\n",
       "      <td>241032</td>\n",
       "      <td>2016-01-06</td>\n",
       "      <td>f</td>\n",
       "      <td>NaN</td>\n",
       "    </tr>\n",
       "  </tbody>\n",
       "</table>\n",
       "</div>"
      ],
      "text/plain": [
       "   listing_id        date available  price\n",
       "0      241032  2016-01-04         t   85.0\n",
       "1      241032  2016-01-05         t   85.0\n",
       "2      241032  2016-01-06         f    NaN"
      ]
     },
     "execution_count": 23,
     "metadata": {},
     "output_type": "execute_result"
    }
   ],
   "source": [
    "calendar_df.head(3)"
   ]
  },
  {
   "cell_type": "code",
   "execution_count": 24,
   "id": "f606c697-83ea-405f-8236-92e14fc8b694",
   "metadata": {},
   "outputs": [
    {
     "data": {
      "text/plain": [
       "t    934542\n",
       "f    459028\n",
       "Name: available, dtype: int64"
      ]
     },
     "execution_count": 24,
     "metadata": {},
     "output_type": "execute_result"
    }
   ],
   "source": [
    "calendar_df['available'].value_counts()\n"
   ]
  },
  {
   "cell_type": "code",
   "execution_count": 25,
   "id": "25972b1f-342b-4105-9261-d37609aff4a0",
   "metadata": {},
   "outputs": [],
   "source": [
    "# Changing available to boolean \n",
    "mapping_available ={'t': 1, 'f': 0}\n",
    "calendar_df['available'] = calendar_df['available'].map(mapping_available)"
   ]
  },
  {
   "cell_type": "code",
   "execution_count": 26,
   "id": "986ab9e3-6f66-425a-8d0a-39e28c8ccec6",
   "metadata": {},
   "outputs": [
    {
     "data": {
      "text/html": [
       "<div>\n",
       "<style scoped>\n",
       "    .dataframe tbody tr th:only-of-type {\n",
       "        vertical-align: middle;\n",
       "    }\n",
       "\n",
       "    .dataframe tbody tr th {\n",
       "        vertical-align: top;\n",
       "    }\n",
       "\n",
       "    .dataframe thead th {\n",
       "        text-align: right;\n",
       "    }\n",
       "</style>\n",
       "<table border=\"1\" class=\"dataframe\">\n",
       "  <thead>\n",
       "    <tr style=\"text-align: right;\">\n",
       "      <th></th>\n",
       "      <th>listing_id</th>\n",
       "      <th>available</th>\n",
       "      <th>price</th>\n",
       "    </tr>\n",
       "    <tr>\n",
       "      <th>date</th>\n",
       "      <th></th>\n",
       "      <th></th>\n",
       "      <th></th>\n",
       "    </tr>\n",
       "  </thead>\n",
       "  <tbody>\n",
       "    <tr>\n",
       "      <th>2016-01-04</th>\n",
       "      <td>3818</td>\n",
       "      <td>3818</td>\n",
       "      <td>1735</td>\n",
       "    </tr>\n",
       "  </tbody>\n",
       "</table>\n",
       "</div>"
      ],
      "text/plain": [
       "            listing_id  available  price\n",
       "date                                    \n",
       "2016-01-04        3818       3818   1735"
      ]
     },
     "execution_count": 26,
     "metadata": {},
     "output_type": "execute_result"
    }
   ],
   "source": [
    "# Grouping by date\n",
    "x= calendar_df.groupby(['date']).count()\n",
    "x.head(1)"
   ]
  },
  {
   "cell_type": "code",
   "execution_count": 27,
   "id": "c9ca807f-ab80-48c6-b5d5-f4247be57a5f",
   "metadata": {},
   "outputs": [],
   "source": [
    "def get_month_from_date(x):\n",
    "    ''' Get month from date represented as a string \n",
    "    \n",
    "    Inputs: row of a pd.DataFrame\n",
    "    \n",
    "    Outputs: int value of the month of a date string\n",
    "    '''\n",
    "    return int(x['date'].split('-')[1])\n",
    "\n",
    "def get_year_from_date(y):\n",
    "    ''' Get year from date represented as a string \n",
    "    \n",
    "    Inputs: row of a pd.DataFrame\n",
    "    \n",
    "    Outputs: int value of the year of a date string\n",
    "    '''\n",
    "    return int(y['date'].split('-')[0])"
   ]
  },
  {
   "cell_type": "code",
   "execution_count": 28,
   "id": "52144755-fe14-4e5c-8341-cf74acfcefe7",
   "metadata": {},
   "outputs": [
    {
     "data": {
      "text/html": [
       "<div>\n",
       "<style scoped>\n",
       "    .dataframe tbody tr th:only-of-type {\n",
       "        vertical-align: middle;\n",
       "    }\n",
       "\n",
       "    .dataframe tbody tr th {\n",
       "        vertical-align: top;\n",
       "    }\n",
       "\n",
       "    .dataframe thead th {\n",
       "        text-align: right;\n",
       "    }\n",
       "</style>\n",
       "<table border=\"1\" class=\"dataframe\">\n",
       "  <thead>\n",
       "    <tr style=\"text-align: right;\">\n",
       "      <th></th>\n",
       "      <th>listing_id</th>\n",
       "      <th>date</th>\n",
       "      <th>available</th>\n",
       "      <th>price</th>\n",
       "      <th>month</th>\n",
       "      <th>year</th>\n",
       "    </tr>\n",
       "  </thead>\n",
       "  <tbody>\n",
       "    <tr>\n",
       "      <th>0</th>\n",
       "      <td>241032</td>\n",
       "      <td>2016-01-04</td>\n",
       "      <td>1</td>\n",
       "      <td>85.0</td>\n",
       "      <td>1</td>\n",
       "      <td>2016</td>\n",
       "    </tr>\n",
       "    <tr>\n",
       "      <th>1</th>\n",
       "      <td>241032</td>\n",
       "      <td>2016-01-05</td>\n",
       "      <td>1</td>\n",
       "      <td>85.0</td>\n",
       "      <td>1</td>\n",
       "      <td>2016</td>\n",
       "    </tr>\n",
       "  </tbody>\n",
       "</table>\n",
       "</div>"
      ],
      "text/plain": [
       "   listing_id        date  available  price  month  year\n",
       "0      241032  2016-01-04          1   85.0      1  2016\n",
       "1      241032  2016-01-05          1   85.0      1  2016"
      ]
     },
     "execution_count": 28,
     "metadata": {},
     "output_type": "execute_result"
    }
   ],
   "source": [
    "# Get year and month columns\n",
    "calendar_df['month'] = calendar_df.apply(lambda x : get_month_from_date(x), axis=1)\n",
    "calendar_df['year']  = calendar_df.apply(lambda y : get_year_from_date(y), axis=1)\n",
    "calendar_df.head(2)"
   ]
  },
  {
   "cell_type": "code",
   "execution_count": 30,
   "id": "084dc150-b098-4fd5-bb0a-1f7c8ace00fa",
   "metadata": {},
   "outputs": [],
   "source": [
    "# Excluding 2017 year\n",
    "calendar_df_2=calendar_df[calendar_df['year'] !=2017]\n"
   ]
  },
  {
   "cell_type": "code",
   "execution_count": 31,
   "id": "13b3a6d6-8ab2-4d81-bfec-fcfc86376ddf",
   "metadata": {},
   "outputs": [
    {
     "data": {
      "text/html": [
       "<div>\n",
       "<style scoped>\n",
       "    .dataframe tbody tr th:only-of-type {\n",
       "        vertical-align: middle;\n",
       "    }\n",
       "\n",
       "    .dataframe tbody tr th {\n",
       "        vertical-align: top;\n",
       "    }\n",
       "\n",
       "    .dataframe thead th {\n",
       "        text-align: right;\n",
       "    }\n",
       "</style>\n",
       "<table border=\"1\" class=\"dataframe\">\n",
       "  <thead>\n",
       "    <tr style=\"text-align: right;\">\n",
       "      <th></th>\n",
       "      <th>listing_id</th>\n",
       "      <th>date</th>\n",
       "      <th>available</th>\n",
       "      <th>price</th>\n",
       "      <th>month</th>\n",
       "    </tr>\n",
       "    <tr>\n",
       "      <th>year</th>\n",
       "      <th></th>\n",
       "      <th></th>\n",
       "      <th></th>\n",
       "      <th></th>\n",
       "      <th></th>\n",
       "    </tr>\n",
       "  </thead>\n",
       "  <tbody>\n",
       "    <tr>\n",
       "      <th>2016</th>\n",
       "      <td>1385934</td>\n",
       "      <td>1385934</td>\n",
       "      <td>1385934</td>\n",
       "      <td>928844</td>\n",
       "      <td>1385934</td>\n",
       "    </tr>\n",
       "  </tbody>\n",
       "</table>\n",
       "</div>"
      ],
      "text/plain": [
       "      listing_id     date  available   price    month\n",
       "year                                                 \n",
       "2016     1385934  1385934    1385934  928844  1385934"
      ]
     },
     "execution_count": 31,
     "metadata": {},
     "output_type": "execute_result"
    }
   ],
   "source": [
    "\n",
    "calendar_df_2.groupby('year').count()"
   ]
  },
  {
   "cell_type": "code",
   "execution_count": 32,
   "id": "df2a49fa-f205-4364-aea6-6e31553f4861",
   "metadata": {},
   "outputs": [
    {
     "data": {
      "text/html": [
       "<div>\n",
       "<style scoped>\n",
       "    .dataframe tbody tr th:only-of-type {\n",
       "        vertical-align: middle;\n",
       "    }\n",
       "\n",
       "    .dataframe tbody tr th {\n",
       "        vertical-align: top;\n",
       "    }\n",
       "\n",
       "    .dataframe thead th {\n",
       "        text-align: right;\n",
       "    }\n",
       "</style>\n",
       "<table border=\"1\" class=\"dataframe\">\n",
       "  <thead>\n",
       "    <tr style=\"text-align: right;\">\n",
       "      <th></th>\n",
       "      <th>available</th>\n",
       "      <th>occupancy</th>\n",
       "    </tr>\n",
       "    <tr>\n",
       "      <th>month</th>\n",
       "      <th></th>\n",
       "      <th></th>\n",
       "    </tr>\n",
       "  </thead>\n",
       "  <tbody>\n",
       "    <tr>\n",
       "      <th>1</th>\n",
       "      <td>0.554133</td>\n",
       "      <td>0.445867</td>\n",
       "    </tr>\n",
       "    <tr>\n",
       "      <th>2</th>\n",
       "      <td>0.662208</td>\n",
       "      <td>0.337792</td>\n",
       "    </tr>\n",
       "    <tr>\n",
       "      <th>3</th>\n",
       "      <td>0.709187</td>\n",
       "      <td>0.290813</td>\n",
       "    </tr>\n",
       "    <tr>\n",
       "      <th>4</th>\n",
       "      <td>0.663847</td>\n",
       "      <td>0.336153</td>\n",
       "    </tr>\n",
       "    <tr>\n",
       "      <th>5</th>\n",
       "      <td>0.675670</td>\n",
       "      <td>0.324330</td>\n",
       "    </tr>\n",
       "    <tr>\n",
       "      <th>6</th>\n",
       "      <td>0.674384</td>\n",
       "      <td>0.325616</td>\n",
       "    </tr>\n",
       "    <tr>\n",
       "      <th>7</th>\n",
       "      <td>0.627097</td>\n",
       "      <td>0.372903</td>\n",
       "    </tr>\n",
       "    <tr>\n",
       "      <th>8</th>\n",
       "      <td>0.645051</td>\n",
       "      <td>0.354949</td>\n",
       "    </tr>\n",
       "    <tr>\n",
       "      <th>9</th>\n",
       "      <td>0.674402</td>\n",
       "      <td>0.325598</td>\n",
       "    </tr>\n",
       "    <tr>\n",
       "      <th>10</th>\n",
       "      <td>0.696514</td>\n",
       "      <td>0.303486</td>\n",
       "    </tr>\n",
       "    <tr>\n",
       "      <th>11</th>\n",
       "      <td>0.713986</td>\n",
       "      <td>0.286014</td>\n",
       "    </tr>\n",
       "    <tr>\n",
       "      <th>12</th>\n",
       "      <td>0.735573</td>\n",
       "      <td>0.264427</td>\n",
       "    </tr>\n",
       "  </tbody>\n",
       "</table>\n",
       "</div>"
      ],
      "text/plain": [
       "       available  occupancy\n",
       "month                      \n",
       "1       0.554133   0.445867\n",
       "2       0.662208   0.337792\n",
       "3       0.709187   0.290813\n",
       "4       0.663847   0.336153\n",
       "5       0.675670   0.324330\n",
       "6       0.674384   0.325616\n",
       "7       0.627097   0.372903\n",
       "8       0.645051   0.354949\n",
       "9       0.674402   0.325598\n",
       "10      0.696514   0.303486\n",
       "11      0.713986   0.286014\n",
       "12      0.735573   0.264427"
      ]
     },
     "execution_count": 32,
     "metadata": {},
     "output_type": "execute_result"
    }
   ],
   "source": [
    "# Finding occupancy\n",
    "ocp = calendar_df_2[['month', 'available']].groupby('month').mean()\n",
    "ocp['occupancy'] = 1 - ocp['available']\n",
    "ocp"
   ]
  },
  {
   "cell_type": "markdown",
   "id": "6b04199c-a416-4162-b6f5-30797350760a",
   "metadata": {},
   "source": [
    "- We can see from this data that there is high occupancy in Jan2016, followed by July and Auguest and least busiest month is seen as December "
   ]
  },
  {
   "cell_type": "markdown",
   "id": "5aa4fb77-d68d-4053-80f6-d7b7231808ee",
   "metadata": {},
   "source": [
    " Question 2 : What factors guests care about most in choosing accomodations?"
   ]
  },
  {
   "cell_type": "code",
   "execution_count": 33,
   "id": "ae0eb484-5e35-48ca-a8e9-3e8f967193ce",
   "metadata": {},
   "outputs": [
    {
     "data": {
      "text/plain": [
       "listing_id        0\n",
       "id                0\n",
       "date              0\n",
       "reviewer_id       0\n",
       "reviewer_name     0\n",
       "comments         18\n",
       "dtype: int64"
      ]
     },
     "execution_count": 33,
     "metadata": {},
     "output_type": "execute_result"
    }
   ],
   "source": [
    "reviews_df.isnull().sum()"
   ]
  },
  {
   "cell_type": "code",
   "execution_count": 40,
   "id": "1d1c57fb-8909-4faa-a847-43d277f56cdf",
   "metadata": {},
   "outputs": [],
   "source": [
    "reviews = reviews_df.dropna()"
   ]
  },
  {
   "cell_type": "code",
   "execution_count": 41,
   "id": "7aea33c6-163f-4784-abb5-804f2d061edb",
   "metadata": {},
   "outputs": [
    {
     "data": {
      "text/plain": [
       "'Cute and cozy place. Perfect location to everything! Kelly has a great room in a very central location. Beautiful building , architecture and a style that we really like. We felt guite at home here and wish we had spent more time.Went for a walk and found  Center with a major food festival in progress. What a treat.Visited the Space Needle and the Chihuly Glass exhibit. Then Pikes Place Market. WOW.  Thanks for a great stay.Very spacious apartment, and in a great neighborhood.  This is the kind of apartment I wish I had!Didn\\'t really get to meet Kelly until I was on my out, but she was always readily available by phone. I believe the only \"issue\" (if you want to call it that) was finding a place to park, but I sincerely doubt its easy to park anywhere in a residential area after 5 pm on a FridayClose to  Center and all it has to offer - ballet, theater, museum, Space Needle, restaurants of all ilk just blocks away, and the Metropolitan (probably the coolest grocer you\\'ll ever find). Easy to find and Kelly was warm, welcoming, and really interesting to talk to. Kelly was a great host and very accommodating in a great neighborhood. She has some great coffee and while I wasn\\'t around much during my stay the time I spent interacting with her was very pleasant. The apartment is in a great location and very close to the  Center. The neighborhood itself has a lot of good food as well!Kelly was great, place was great, just what I was looking for-clean, simple, well kept place.5 min walk to the  bike share (as of Aug 2015) which I used all week.Kelly was great! Very nice and the neighborhood and place to stay was expected and comfortable. Overall great and would book again.hola all bnb erz - Just left  where I had a simply fantastic time for the weekend , no small part because of the welcome mat left for me at Kelly\\'s. all was good and mega efficient, most including precise directions-very important in this town. oh , btw, her cool 50\\'s apt in in the perfect spot to do anything in town with minimum effort. CHEERSKelly\\'s place is conveniently located on a quiet street in Lower Queen Anne which is an easy walk or bus/cab ride to Belltown and Downtown in addition to being a booming neighborhood in its own right. Alas, I was visiting my job and old friends in  so my schedule was completely full and I barely got to meet Kelly. Which is too bad, she seemed great!The place was really nice, clean, and the most important aspect; it was close to everything so we moved across the city easily.Muy limpio y espacioso, Kelly fue muy agradable y lo mas importante es que esta cerca de prácticamente todo lo que nos permitió movernos fácilmente por la cuidad.The place was really nice, clean and quiet at night.Clean Linen and Towels were provided and the air mattress was superb. The Neighbourhood is practical with a lot of restaurants and cafes around. Downtown is reachable by foot (30 min) or bus (10 min).Kelly was a fantastic host, although I was working most of the time, so I haven\\'t had time to talk much to her. The listing was exactly as described!  Kelly\\'s place was wonderful and cleen.  it was just what we were looking for.We only got to meet her for a moment one evening because of our varied schedule, but she was warm and welcoming to us.Her place is also in good walking distance to City Center!  Lots to do right around there!We would recommend her place to others who are traveling to !Very welcoming and a nicer place to live in the  areaGreat location, great price, great host! Thanks for the wine, coffee and interesting conversation. You\\'ll definitely see me again when I visit next.Staying at Kelly\\'s was easy. The location was a block away from public transportation, her place was easy to find, keys were easy to access and timing was extremely flexible. Great for the price - nothing too fancy. One negative: the shower didn\\'t drain well. Kelly was an amazing host who made the stay very pleasurable. Her location is ideal for anyone visiting . Highly recommendedDespite our late booking request, Rachel & Jon were very responsive and helpful over email. It was a great place to stay - the location was ideal, the house was clean, well-furnished, the room was cozy, and the cat made good company. Overall, a lovely experience and I would definitely recommend the Farmhouse! Rachel & Jon have a nice house closed to downtown. The room was clean. The kitten is really nice and friendly. A good place to stay!Rachel and Jon have been the perfect hosts for us. Our schedule was very tight and they have been very helpful for the check-in and the reservation.The house is conveniently located, spacious, and beautiful. The room has space for luggages or coats in a big closet. You are given a spare key, so you\\'re free to go in and out.We have felt really confortable with our hosts and really recommand this house as a place to stay if you\\'re going to .This house was a delightful bright place to stay! Rachel and Jon were so nice, they had breakfast for'"
      ]
     },
     "execution_count": 41,
     "metadata": {},
     "output_type": "execute_result"
    }
   ],
   "source": [
    "import PIL.Image as image\n",
    "from wordcloud import WordCloud, STOPWORDS\n",
    "from os import path\n",
    "comments = ''.join(list(reviews['comments'].values))\n",
    "comments = comments.replace('\\r', '')\n",
    "comments = comments.replace('\\n', '')\n",
    "comments = comments.replace('Seattle', '')\n",
    "comments[:5000]"
   ]
  },
  {
   "cell_type": "code",
   "execution_count": 43,
   "id": "dec95cff-a5f5-433c-8ab5-e8a96fef4dc8",
   "metadata": {},
   "outputs": [
    {
     "data": {
      "image/png": "[encoded data removed]",
      "text/plain": [
       "<Figure size 432x288 with 1 Axes>"
      ]
     },
     "metadata": {
      "needs_background": "light"
     },
     "output_type": "display_data"
    }
   ],
   "source": [
    "wordcloud =  WordCloud(background_color='white',  max_words=2000, stopwords=STOPWORDS, max_font_size=150, scale=32, random_state=42)\n",
    "wordcloud.generate_from_text(comments)\n",
    "plt.imshow(wordcloud)\n",
    "plt.axis('off')\n",
    "plt.show()\n"
   ]
  },
  {
   "cell_type": "markdown",
   "id": "915b7eae-9b07-41d7-9b59-34fa04ca2065",
   "metadata": {},
   "source": [
    "Conclusion:\n",
    "We can find that key words which frequently appear in reviews are \"stay\", \"place\",  \"house\",\"apartment\", \"comfortable\", \"clean\", \"room\", which means that location, the property of listings, comfort, Cleanliness are important factors for guests in choosing accomodations"
   ]
  },
  {
   "cell_type": "markdown",
   "id": "cc3bfb1a-eced-449c-aaeb-54b67089b3c3",
   "metadata": {},
   "source": [
    "Question 3: When will it be cheaper to book an accomodataion in Seattle?"
   ]
  },
  {
   "cell_type": "code",
   "execution_count": 44,
   "id": "2e24b302-5c2f-4672-85a6-d8e77ff6a846",
   "metadata": {},
   "outputs": [
    {
     "data": {
      "text/html": [
       "<div>\n",
       "<style scoped>\n",
       "    .dataframe tbody tr th:only-of-type {\n",
       "        vertical-align: middle;\n",
       "    }\n",
       "\n",
       "    .dataframe tbody tr th {\n",
       "        vertical-align: top;\n",
       "    }\n",
       "\n",
       "    .dataframe thead th {\n",
       "        text-align: right;\n",
       "    }\n",
       "</style>\n",
       "<table border=\"1\" class=\"dataframe\">\n",
       "  <thead>\n",
       "    <tr style=\"text-align: right;\">\n",
       "      <th></th>\n",
       "      <th>listing_id</th>\n",
       "      <th>date</th>\n",
       "      <th>available</th>\n",
       "      <th>price</th>\n",
       "      <th>month</th>\n",
       "      <th>year</th>\n",
       "    </tr>\n",
       "  </thead>\n",
       "  <tbody>\n",
       "    <tr>\n",
       "      <th>0</th>\n",
       "      <td>241032</td>\n",
       "      <td>2016-01-04</td>\n",
       "      <td>1</td>\n",
       "      <td>85.0</td>\n",
       "      <td>1</td>\n",
       "      <td>2016</td>\n",
       "    </tr>\n",
       "    <tr>\n",
       "      <th>1</th>\n",
       "      <td>241032</td>\n",
       "      <td>2016-01-05</td>\n",
       "      <td>1</td>\n",
       "      <td>85.0</td>\n",
       "      <td>1</td>\n",
       "      <td>2016</td>\n",
       "    </tr>\n",
       "  </tbody>\n",
       "</table>\n",
       "</div>"
      ],
      "text/plain": [
       "   listing_id        date  available  price  month  year\n",
       "0      241032  2016-01-04          1   85.0      1  2016\n",
       "1      241032  2016-01-05          1   85.0      1  2016"
      ]
     },
     "execution_count": 44,
     "metadata": {},
     "output_type": "execute_result"
    }
   ],
   "source": [
    "calendar_df.head(2)"
   ]
  },
  {
   "cell_type": "code",
   "execution_count": 45,
   "id": "2e77f2e1-787f-4461-b7b0-c1d3df6c913d",
   "metadata": {},
   "outputs": [
    {
     "data": {
      "text/html": [
       "<div>\n",
       "<style scoped>\n",
       "    .dataframe tbody tr th:only-of-type {\n",
       "        vertical-align: middle;\n",
       "    }\n",
       "\n",
       "    .dataframe tbody tr th {\n",
       "        vertical-align: top;\n",
       "    }\n",
       "\n",
       "    .dataframe thead th {\n",
       "        text-align: right;\n",
       "    }\n",
       "</style>\n",
       "<table border=\"1\" class=\"dataframe\">\n",
       "  <thead>\n",
       "    <tr style=\"text-align: right;\">\n",
       "      <th></th>\n",
       "      <th>listing_id</th>\n",
       "      <th>date</th>\n",
       "      <th>available</th>\n",
       "      <th>price</th>\n",
       "      <th>month</th>\n",
       "      <th>year</th>\n",
       "    </tr>\n",
       "  </thead>\n",
       "  <tbody>\n",
       "    <tr>\n",
       "      <th>0</th>\n",
       "      <td>241032</td>\n",
       "      <td>2016-01-04</td>\n",
       "      <td>1</td>\n",
       "      <td>85.0</td>\n",
       "      <td>1</td>\n",
       "      <td>2016</td>\n",
       "    </tr>\n",
       "  </tbody>\n",
       "</table>\n",
       "</div>"
      ],
      "text/plain": [
       "   listing_id       date  available  price  month  year\n",
       "0      241032 2016-01-04          1   85.0      1  2016"
      ]
     },
     "execution_count": 45,
     "metadata": {},
     "output_type": "execute_result"
    }
   ],
   "source": [
    "calendar_df['date'] = pd.to_datetime(calendar_df['date'])\n",
    "calendar_df.head(1)"
   ]
  },
  {
   "cell_type": "code",
   "execution_count": 49,
   "id": "0ef822b3-9ab2-4871-8fed-00afc899fe0e",
   "metadata": {},
   "outputs": [
    {
     "data": {
      "text/html": [
       "<div>\n",
       "<style scoped>\n",
       "    .dataframe tbody tr th:only-of-type {\n",
       "        vertical-align: middle;\n",
       "    }\n",
       "\n",
       "    .dataframe tbody tr th {\n",
       "        vertical-align: top;\n",
       "    }\n",
       "\n",
       "    .dataframe thead th {\n",
       "        text-align: right;\n",
       "    }\n",
       "</style>\n",
       "<table border=\"1\" class=\"dataframe\">\n",
       "  <thead>\n",
       "    <tr style=\"text-align: right;\">\n",
       "      <th></th>\n",
       "      <th>total</th>\n",
       "      <th>avg</th>\n",
       "    </tr>\n",
       "    <tr>\n",
       "      <th>date</th>\n",
       "      <th></th>\n",
       "      <th></th>\n",
       "    </tr>\n",
       "  </thead>\n",
       "  <tbody>\n",
       "    <tr>\n",
       "      <th>2016-01-04</th>\n",
       "      <td>211819.0</td>\n",
       "      <td>122.085879</td>\n",
       "    </tr>\n",
       "    <tr>\n",
       "      <th>2016-01-05</th>\n",
       "      <td>225312.0</td>\n",
       "      <td>120.681307</td>\n",
       "    </tr>\n",
       "  </tbody>\n",
       "</table>\n",
       "</div>"
      ],
      "text/plain": [
       "               total         avg\n",
       "date                            \n",
       "2016-01-04  211819.0  122.085879\n",
       "2016-01-05  225312.0  120.681307"
      ]
     },
     "execution_count": 49,
     "metadata": {},
     "output_type": "execute_result"
    }
   ],
   "source": [
    "date_price = pd.DataFrame(calendar_df.groupby('date')['price'].sum(), )\n",
    "date_price['avg'] = calendar_df.groupby('date')['price'].mean()\n",
    "date_price.columns = ['total', 'avg']\n",
    "date_price.head(2)"
   ]
  },
  {
   "cell_type": "markdown",
   "id": "8f53d0f9-e711-4f15-8e2a-38b98c2018e7",
   "metadata": {},
   "source": [
    "- Data Visualization"
   ]
  },
  {
   "cell_type": "code",
   "execution_count": 50,
   "id": "8961baec-b0cd-422f-96fc-129bb9b4f4a5",
   "metadata": {},
   "outputs": [
    {
     "data": {
      "text/plain": [
       "[<matplotlib.lines.Line2D at 0x1500455cf40>]"
      ]
     },
     "execution_count": 50,
     "metadata": {},
     "output_type": "execute_result"
    },
    {
     "data": {
      "image/png": "[encoded data removed]",
      "text/plain": [
       "<Figure size 1728x864 with 1 Axes>"
      ]
     },
     "metadata": {
      "needs_background": "light"
     },
     "output_type": "display_data"
    }
   ],
   "source": [
    "plt.figure(figsize=(24, 12))\n",
    "plt.plot(date_price.index, date_price['avg'], color='b', linestyle='-', marker='.')"
   ]
  },
  {
   "cell_type": "markdown",
   "id": "d734ba32-9e00-4f33-b7d3-f6c19347f5da",
   "metadata": {},
   "source": [
    "- In general, we see highest price between July and September"
   ]
  },
  {
   "cell_type": "code",
   "execution_count": 52,
   "id": "9aff3e62-cbd2-49d8-a722-c8ba84c9a3d1",
   "metadata": {},
   "outputs": [
    {
     "data": {
      "text/html": [
       "<div>\n",
       "<style scoped>\n",
       "    .dataframe tbody tr th:only-of-type {\n",
       "        vertical-align: middle;\n",
       "    }\n",
       "\n",
       "    .dataframe tbody tr th {\n",
       "        vertical-align: top;\n",
       "    }\n",
       "\n",
       "    .dataframe thead th {\n",
       "        text-align: right;\n",
       "    }\n",
       "</style>\n",
       "<table border=\"1\" class=\"dataframe\">\n",
       "  <thead>\n",
       "    <tr style=\"text-align: right;\">\n",
       "      <th></th>\n",
       "      <th>listing_id</th>\n",
       "      <th>date</th>\n",
       "      <th>available</th>\n",
       "      <th>price</th>\n",
       "      <th>month</th>\n",
       "      <th>year</th>\n",
       "      <th>day</th>\n",
       "    </tr>\n",
       "  </thead>\n",
       "  <tbody>\n",
       "    <tr>\n",
       "      <th>0</th>\n",
       "      <td>241032</td>\n",
       "      <td>2016-01-04</td>\n",
       "      <td>1</td>\n",
       "      <td>85.0</td>\n",
       "      <td>1</td>\n",
       "      <td>2016</td>\n",
       "      <td>4</td>\n",
       "    </tr>\n",
       "    <tr>\n",
       "      <th>1</th>\n",
       "      <td>241032</td>\n",
       "      <td>2016-01-05</td>\n",
       "      <td>1</td>\n",
       "      <td>85.0</td>\n",
       "      <td>1</td>\n",
       "      <td>2016</td>\n",
       "      <td>5</td>\n",
       "    </tr>\n",
       "  </tbody>\n",
       "</table>\n",
       "</div>"
      ],
      "text/plain": [
       "   listing_id       date  available  price  month  year  day\n",
       "0      241032 2016-01-04          1   85.0      1  2016    4\n",
       "1      241032 2016-01-05          1   85.0      1  2016    5"
      ]
     },
     "execution_count": 52,
     "metadata": {},
     "output_type": "execute_result"
    }
   ],
   "source": [
    "#Pulling day from date\n",
    "calendar_df['day'] = calendar_df['date'].dt.day\n",
    "calendar_df.head(2)"
   ]
  },
  {
   "cell_type": "code",
   "execution_count": 54,
   "id": "f233e030-7547-41ff-b950-ef7d88e57bbe",
   "metadata": {},
   "outputs": [
    {
     "data": {
      "text/html": [
       "<div>\n",
       "<style scoped>\n",
       "    .dataframe tbody tr th:only-of-type {\n",
       "        vertical-align: middle;\n",
       "    }\n",
       "\n",
       "    .dataframe tbody tr th {\n",
       "        vertical-align: top;\n",
       "    }\n",
       "\n",
       "    .dataframe thead th {\n",
       "        text-align: right;\n",
       "    }\n",
       "</style>\n",
       "<table border=\"1\" class=\"dataframe\">\n",
       "  <thead>\n",
       "    <tr style=\"text-align: right;\">\n",
       "      <th></th>\n",
       "      <th>listing_id</th>\n",
       "      <th>date</th>\n",
       "      <th>available</th>\n",
       "      <th>price</th>\n",
       "      <th>month</th>\n",
       "      <th>year</th>\n",
       "      <th>day</th>\n",
       "      <th>day_of_week</th>\n",
       "    </tr>\n",
       "  </thead>\n",
       "  <tbody>\n",
       "    <tr>\n",
       "      <th>0</th>\n",
       "      <td>241032</td>\n",
       "      <td>2016-01-04</td>\n",
       "      <td>1</td>\n",
       "      <td>85.0</td>\n",
       "      <td>1</td>\n",
       "      <td>2016</td>\n",
       "      <td>4</td>\n",
       "      <td>1</td>\n",
       "    </tr>\n",
       "    <tr>\n",
       "      <th>1</th>\n",
       "      <td>241032</td>\n",
       "      <td>2016-01-05</td>\n",
       "      <td>1</td>\n",
       "      <td>85.0</td>\n",
       "      <td>1</td>\n",
       "      <td>2016</td>\n",
       "      <td>5</td>\n",
       "      <td>2</td>\n",
       "    </tr>\n",
       "    <tr>\n",
       "      <th>2</th>\n",
       "      <td>241032</td>\n",
       "      <td>2016-01-06</td>\n",
       "      <td>0</td>\n",
       "      <td>NaN</td>\n",
       "      <td>1</td>\n",
       "      <td>2016</td>\n",
       "      <td>6</td>\n",
       "      <td>3</td>\n",
       "    </tr>\n",
       "    <tr>\n",
       "      <th>3</th>\n",
       "      <td>241032</td>\n",
       "      <td>2016-01-07</td>\n",
       "      <td>0</td>\n",
       "      <td>NaN</td>\n",
       "      <td>1</td>\n",
       "      <td>2016</td>\n",
       "      <td>7</td>\n",
       "      <td>4</td>\n",
       "    </tr>\n",
       "    <tr>\n",
       "      <th>4</th>\n",
       "      <td>241032</td>\n",
       "      <td>2016-01-08</td>\n",
       "      <td>0</td>\n",
       "      <td>NaN</td>\n",
       "      <td>1</td>\n",
       "      <td>2016</td>\n",
       "      <td>8</td>\n",
       "      <td>5</td>\n",
       "    </tr>\n",
       "  </tbody>\n",
       "</table>\n",
       "</div>"
      ],
      "text/plain": [
       "   listing_id       date  available  price  month  year  day  day_of_week\n",
       "0      241032 2016-01-04          1   85.0      1  2016    4            1\n",
       "1      241032 2016-01-05          1   85.0      1  2016    5            2\n",
       "2      241032 2016-01-06          0    NaN      1  2016    6            3\n",
       "3      241032 2016-01-07          0    NaN      1  2016    7            4\n",
       "4      241032 2016-01-08          0    NaN      1  2016    8            5"
      ]
     },
     "execution_count": 54,
     "metadata": {},
     "output_type": "execute_result"
    }
   ],
   "source": [
    "calendar_df['day_of_week'] = calendar_df['date'].map(lambda x: x.weekday()+1)\n",
    "calendar_df.head(5)"
   ]
  },
  {
   "cell_type": "code",
   "execution_count": 59,
   "id": "b1a06e3e-5afb-4ca4-919a-caa75f9a7d25",
   "metadata": {},
   "outputs": [
    {
     "data": {
      "text/plain": [
       "<AxesSubplot:xlabel='month'>"
      ]
     },
     "execution_count": 59,
     "metadata": {},
     "output_type": "execute_result"
    },
    {
     "data": {
      "image/png": "[encoded data removed]",
      "text/plain": [
       "<Figure size 432x288 with 1 Axes>"
      ]
     },
     "metadata": {
      "needs_background": "light"
     },
     "output_type": "display_data"
    }
   ],
   "source": [
    "sns.lineplot(data=pd.pivot_table(data=calendar_df[calendar_df['year'] == 2016],index='month',values='price',aggfunc='mean'))"
   ]
  },
  {
   "cell_type": "markdown",
   "id": "d8a29e93-b98b-4415-bc9b-fcf1548f4bb5",
   "metadata": {},
   "source": [
    "- The average price of accomodation in Seattle is lowest in January, and is highest in July"
   ]
  }
 ],
 "metadata": {
  "kernelspec": {
   "display_name": "Python 3 (ipykernel)",
   "language": "python",
   "name": "python3"
  },
  "language_info": {
   "codemirror_mode": {
    "name": "ipython",
    "version": 3
   },
   "file_extension": ".py",
   "mimetype": "text/x-python",
   "name": "python",
   "nbconvert_exporter": "python",
   "pygments_lexer": "ipython3",
   "version": "3.9.6"
  }
 },
 "nbformat": 4,
 "nbformat_minor": 5
}
